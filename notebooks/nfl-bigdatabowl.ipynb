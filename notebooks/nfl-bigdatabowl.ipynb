{
 "cells": [
  {
   "cell_type": "code",
   "execution_count": null,
   "metadata": {
    "_cell_guid": "b1076dfc-b9ad-4769-8c92-a6c4dae69d19",
    "_uuid": "8f2839f25d086af736a60e9eeb907d3b93b6e0e5",
    "execution": {
     "iopub.execute_input": "2024-12-03T00:52:18.982685Z",
     "iopub.status.busy": "2024-12-03T00:52:18.982211Z",
     "iopub.status.idle": "2024-12-03T00:52:18.988359Z",
     "shell.execute_reply": "2024-12-03T00:52:18.987150Z",
     "shell.execute_reply.started": "2024-12-03T00:52:18.982634Z"
    },
    "trusted": true
   },
   "outputs": [],
   "source": [
    "import numpy as np # linear algebra\n",
    "import pandas as pd # data processing, CSV file I/O (e.g. pd.read_csv)\n",
    "import matplotlib.pyplot as plt\n",
    "from sklearn.linear_model import LinearRegression"
   ]
  },
  {
   "cell_type": "code",
   "execution_count": null,
   "metadata": {
    "execution": {
     "iopub.execute_input": "2024-12-03T00:52:18.990439Z",
     "iopub.status.busy": "2024-12-03T00:52:18.990116Z",
     "iopub.status.idle": "2024-12-03T00:52:37.153495Z",
     "shell.execute_reply": "2024-12-03T00:52:37.152544Z",
     "shell.execute_reply.started": "2024-12-03T00:52:18.990406Z"
    },
    "trusted": true
   },
   "outputs": [],
   "source": [
    "games = pd.read_csv(\"/kaggle/input/nfl-big-data-bowl-2025/games.csv\")\n",
    "player_play = pd.read_csv(\"/kaggle/input/nfl-big-data-bowl-2025/player_play.csv\")\n",
    "players = pd.read_csv(\"/kaggle/input/nfl-big-data-bowl-2025/players.csv\")\n",
    "plays = pd.read_csv(\"/kaggle/input/nfl-big-data-bowl-2025/plays.csv\")\n",
    "tracking_week_1 = pd.read_csv(\"/kaggle/input/nfl-big-data-bowl-2025/tracking_week_1.csv\")\n",
    "#tracking_week_2 = pd.read_csv(\"/kaggle/input/nfl-big-data-bowl-2025/tracking_week_2.csv\")\n",
    "#tracking_week_3 = pd.read_csv(\"/kaggle/input/nfl-big-data-bowl-2025/tracking_week_3.csv\")\n",
    "#tracking_week_4 = pd.read_csv(\"/kaggle/input/nfl-big-data-bowl-2025/tracking_week_4.csv\")\n",
    "#tracking_week_5 = pd.read_csv(\"/kaggle/input/nfl-big-data-bowl-2025/tracking_week_5.csv\")\n",
    "#tracking_week_6 = pd.read_csv(\"/kaggle/input/nfl-big-data-bowl-2025/tracking_week_6.csv\")\n",
    "#tracking_week_7 = pd.read_csv(\"/kaggle/input/nfl-big-data-bowl-2025/tracking_week_7.csv\")\n",
    "#tracking_week_8 = pd.read_csv(\"/kaggle/input/nfl-big-data-bowl-2025/tracking_week_8.csv\")\n",
    "#tracking_week_9 = pd.read_csv(\"/kaggle/input/nfl-big-data-bowl-2025/tracking_week_9.csv\")"
   ]
  },
  {
   "cell_type": "code",
   "execution_count": null,
   "metadata": {
    "execution": {
     "iopub.execute_input": "2024-12-03T00:52:37.155746Z",
     "iopub.status.busy": "2024-12-03T00:52:37.155400Z",
     "iopub.status.idle": "2024-12-03T00:52:37.169042Z",
     "shell.execute_reply": "2024-12-03T00:52:37.168040Z",
     "shell.execute_reply.started": "2024-12-03T00:52:37.155713Z"
    },
    "trusted": true
   },
   "outputs": [],
   "source": [
    "games.head()"
   ]
  },
  {
   "cell_type": "code",
   "execution_count": null,
   "metadata": {
    "execution": {
     "iopub.execute_input": "2024-12-03T00:52:37.170585Z",
     "iopub.status.busy": "2024-12-03T00:52:37.170267Z",
     "iopub.status.idle": "2024-12-03T00:52:37.197491Z",
     "shell.execute_reply": "2024-12-03T00:52:37.196317Z",
     "shell.execute_reply.started": "2024-12-03T00:52:37.170548Z"
    },
    "trusted": true
   },
   "outputs": [],
   "source": [
    "print(player_play.shape)\n",
    "player_play.head()"
   ]
  },
  {
   "cell_type": "code",
   "execution_count": null,
   "metadata": {
    "execution": {
     "iopub.execute_input": "2024-12-03T00:52:37.199958Z",
     "iopub.status.busy": "2024-12-03T00:52:37.199618Z",
     "iopub.status.idle": "2024-12-03T00:52:37.217310Z",
     "shell.execute_reply": "2024-12-03T00:52:37.216195Z",
     "shell.execute_reply.started": "2024-12-03T00:52:37.199924Z"
    },
    "trusted": true
   },
   "outputs": [],
   "source": [
    "print(players.shape)\n",
    "players.head()"
   ]
  },
  {
   "cell_type": "code",
   "execution_count": null,
   "metadata": {
    "execution": {
     "iopub.execute_input": "2024-12-03T00:52:37.219130Z",
     "iopub.status.busy": "2024-12-03T00:52:37.218755Z",
     "iopub.status.idle": "2024-12-03T00:52:37.244487Z",
     "shell.execute_reply": "2024-12-03T00:52:37.243345Z",
     "shell.execute_reply.started": "2024-12-03T00:52:37.219097Z"
    },
    "trusted": true
   },
   "outputs": [],
   "source": [
    "print(plays.shape)\n",
    "plays.head()"
   ]
  },
  {
   "cell_type": "code",
   "execution_count": null,
   "metadata": {
    "execution": {
     "iopub.execute_input": "2024-12-03T00:52:37.246305Z",
     "iopub.status.busy": "2024-12-03T00:52:37.245939Z",
     "iopub.status.idle": "2024-12-03T00:52:37.285101Z",
     "shell.execute_reply": "2024-12-03T00:52:37.284114Z",
     "shell.execute_reply.started": "2024-12-03T00:52:37.246271Z"
    },
    "trusted": true
   },
   "outputs": [],
   "source": [
    "plays.sort_values(by=[\"gameId\", \"playId\"])"
   ]
  },
  {
   "cell_type": "code",
   "execution_count": null,
   "metadata": {
    "execution": {
     "iopub.execute_input": "2024-12-03T00:52:37.286663Z",
     "iopub.status.busy": "2024-12-03T00:52:37.286353Z",
     "iopub.status.idle": "2024-12-03T00:52:37.306555Z",
     "shell.execute_reply": "2024-12-03T00:52:37.305458Z",
     "shell.execute_reply.started": "2024-12-03T00:52:37.286631Z"
    },
    "trusted": true
   },
   "outputs": [],
   "source": [
    "print(tracking_week_1.shape)\n",
    "tracking_week_1.head()"
   ]
  },
  {
   "cell_type": "code",
   "execution_count": null,
   "metadata": {
    "execution": {
     "iopub.execute_input": "2024-12-03T00:52:37.308131Z",
     "iopub.status.busy": "2024-12-03T00:52:37.307818Z",
     "iopub.status.idle": "2024-12-03T00:52:37.361051Z",
     "shell.execute_reply": "2024-12-03T00:52:37.359893Z",
     "shell.execute_reply.started": "2024-12-03T00:52:37.308099Z"
    },
    "trusted": true
   },
   "outputs": [],
   "source": [
    "tracking_week_1.gameId.unique()"
   ]
  },
  {
   "cell_type": "code",
   "execution_count": null,
   "metadata": {
    "execution": {
     "iopub.execute_input": "2024-12-03T00:52:37.362775Z",
     "iopub.status.busy": "2024-12-03T00:52:37.362382Z",
     "iopub.status.idle": "2024-12-03T00:52:37.710534Z",
     "shell.execute_reply": "2024-12-03T00:52:37.709475Z",
     "shell.execute_reply.started": "2024-12-03T00:52:37.362741Z"
    },
    "trusted": true
   },
   "outputs": [],
   "source": [
    "tracking_week_1.frameType.unique()"
   ]
  },
  {
   "cell_type": "code",
   "execution_count": null,
   "metadata": {
    "execution": {
     "iopub.execute_input": "2024-12-03T00:52:37.713760Z",
     "iopub.status.busy": "2024-12-03T00:52:37.713421Z",
     "iopub.status.idle": "2024-12-03T00:52:37.735649Z",
     "shell.execute_reply": "2024-12-03T00:52:37.734428Z",
     "shell.execute_reply.started": "2024-12-03T00:52:37.713727Z"
    },
    "trusted": true
   },
   "outputs": [],
   "source": [
    "play1 = tracking_week_1[(tracking_week_1.gameId == 2022091200) & (tracking_week_1.playId == 64)]"
   ]
  },
  {
   "cell_type": "code",
   "execution_count": null,
   "metadata": {
    "execution": {
     "iopub.execute_input": "2024-12-03T00:52:37.737552Z",
     "iopub.status.busy": "2024-12-03T00:52:37.737104Z",
     "iopub.status.idle": "2024-12-03T00:52:37.809218Z",
     "shell.execute_reply": "2024-12-03T00:52:37.808078Z",
     "shell.execute_reply.started": "2024-12-03T00:52:37.737505Z"
    },
    "trusted": true
   },
   "outputs": [],
   "source": [
    "print(tracking_week_1.x.aggregate([\"min\", \"max\"]))\n",
    "print(tracking_week_1.y.aggregate([\"min\", \"max\"]))"
   ]
  },
  {
   "cell_type": "code",
   "execution_count": null,
   "metadata": {
    "execution": {
     "iopub.execute_input": "2024-12-03T00:52:37.811040Z",
     "iopub.status.busy": "2024-12-03T00:52:37.810578Z",
     "iopub.status.idle": "2024-12-03T00:52:37.820747Z",
     "shell.execute_reply": "2024-12-03T00:52:37.819638Z",
     "shell.execute_reply.started": "2024-12-03T00:52:37.810972Z"
    },
    "trusted": true
   },
   "outputs": [],
   "source": [
    "before_snap = play1[play1.frameType == \"BEFORE_SNAP\"]\n",
    "snap = play1[play1.frameType == \"SNAP\"]\n",
    "after_snap = play1[play1.frameType == \"AFTER_SNAP\"]"
   ]
  },
  {
   "cell_type": "code",
   "execution_count": null,
   "metadata": {
    "execution": {
     "iopub.execute_input": "2024-12-03T00:52:37.822514Z",
     "iopub.status.busy": "2024-12-03T00:52:37.822184Z",
     "iopub.status.idle": "2024-12-03T00:52:37.834280Z",
     "shell.execute_reply": "2024-12-03T00:52:37.833252Z",
     "shell.execute_reply.started": "2024-12-03T00:52:37.822481Z"
    },
    "trusted": true
   },
   "outputs": [],
   "source": [
    "players = before_snap.displayName.unique()\n",
    "players"
   ]
  },
  {
   "cell_type": "code",
   "execution_count": null,
   "metadata": {
    "execution": {
     "iopub.execute_input": "2024-12-03T00:52:37.836238Z",
     "iopub.status.busy": "2024-12-03T00:52:37.835766Z",
     "iopub.status.idle": "2024-12-03T00:52:37.864061Z",
     "shell.execute_reply": "2024-12-03T00:52:37.862937Z",
     "shell.execute_reply.started": "2024-12-03T00:52:37.836190Z"
    },
    "trusted": true
   },
   "outputs": [],
   "source": [
    "player0 = before_snap[before_snap.displayName == players[0]]\n",
    "player0"
   ]
  },
  {
   "cell_type": "code",
   "execution_count": null,
   "metadata": {
    "execution": {
     "iopub.execute_input": "2024-12-03T00:52:37.865925Z",
     "iopub.status.busy": "2024-12-03T00:52:37.865607Z",
     "iopub.status.idle": "2024-12-03T00:52:37.875055Z",
     "shell.execute_reply": "2024-12-03T00:52:37.873937Z",
     "shell.execute_reply.started": "2024-12-03T00:52:37.865893Z"
    },
    "trusted": true
   },
   "outputs": [],
   "source": [
    "player0.loc[:, [\"x\", \"y\"]].isna().sum()"
   ]
  },
  {
   "cell_type": "code",
   "execution_count": null,
   "metadata": {
    "execution": {
     "iopub.execute_input": "2024-12-03T00:52:37.876539Z",
     "iopub.status.busy": "2024-12-03T00:52:37.876247Z",
     "iopub.status.idle": "2024-12-03T00:52:37.890231Z",
     "shell.execute_reply": "2024-12-03T00:52:37.889196Z",
     "shell.execute_reply.started": "2024-12-03T00:52:37.876510Z"
    },
    "trusted": true
   },
   "outputs": [],
   "source": [
    "player0.time.aggregate([\"min\", \"max\"])"
   ]
  },
  {
   "cell_type": "code",
   "execution_count": null,
   "metadata": {
    "execution": {
     "iopub.execute_input": "2024-12-03T00:52:37.891796Z",
     "iopub.status.busy": "2024-12-03T00:52:37.891466Z",
     "iopub.status.idle": "2024-12-03T00:52:39.334529Z",
     "shell.execute_reply": "2024-12-03T00:52:39.333464Z",
     "shell.execute_reply.started": "2024-12-03T00:52:37.891761Z"
    },
    "trusted": true
   },
   "outputs": [],
   "source": [
    "plt.xlim(0, 120)\n",
    "plt.ylim(0, 53)\n",
    "for i in range(len(before_snap.displayName.unique())):\n",
    "    player = before_snap[before_snap.displayName == players[i]].reset_index(drop=True)\n",
    "    if player.displayName[0] == \"football\":\n",
    "        plt.scatter(player.x, player.y, c=\"red\")\n",
    "        plt.text(list(player.x)[-1], list(player.y)[-1], \"FB\")\n",
    "    else:\n",
    "        plt.scatter(player.x, player.y, c=player.frameId)\n",
    "        #plt.text(list(player.x)[-1], list(player.y)[-1], list(player.jerseyNumber)[-1])\n",
    "plt.title(\"before snap\")\n",
    "plt.show()\n",
    "\n",
    "plt.xlim(0, 120)\n",
    "plt.ylim(0, 53)\n",
    "for i in range(len(snap.displayName.unique())):\n",
    "    player = snap[snap.displayName == players[i]].reset_index(drop=True)\n",
    "    if player.displayName[0] == \"football\":\n",
    "        plt.scatter(player.x, player.y, c=\"red\")\n",
    "        plt.text(list(player.x)[-1], list(player.y)[-1], \"FB\")\n",
    "    else:\n",
    "        plt.scatter(player.x, player.y, c=player.frameId)\n",
    "        #plt.text(list(player.x)[-1], list(player.y)[-1], list(player.jerseyNumber)[-1])\n",
    "plt.title(\"during snap\")\n",
    "plt.show()\n",
    "\n",
    "\n",
    "for i in range(len(after_snap.displayName.unique())):\n",
    "    player = after_snap[after_snap.displayName == players[i]].reset_index(drop=True)\n",
    "    if player.displayName[0] == \"football\":\n",
    "        plt.scatter(player.x, player.y, c=\"red\")\n",
    "        plt.text(list(player.x)[-1], list(player.y)[-1], \"FB\")\n",
    "    else:\n",
    "        plt.scatter(player.x, player.y, c=player.frameId)\n",
    "        #plt.text(list(player.x)[-1], list(player.y)[-1], list(player.jerseyNumber)[-1])\n",
    "plt.title(\"after snap\")\n",
    "plt.show()"
   ]
  },
  {
   "cell_type": "code",
   "execution_count": null,
   "metadata": {
    "execution": {
     "iopub.execute_input": "2024-12-03T00:52:39.337204Z",
     "iopub.status.busy": "2024-12-03T00:52:39.336230Z",
     "iopub.status.idle": "2024-12-03T00:52:39.341475Z",
     "shell.execute_reply": "2024-12-03T00:52:39.340484Z",
     "shell.execute_reply.started": "2024-12-03T00:52:39.337154Z"
    },
    "trusted": true
   },
   "outputs": [],
   "source": [
    "# Player start vs end (done)\n",
    "# Ball path vs end (nan make a different color) (almost done)\n",
    "# Average distance moved by each player\n",
    "# Figuring out a function to determine if a player is moving the ball\n",
    "# How much each player moves the ball "
   ]
  },
  {
   "cell_type": "code",
   "execution_count": null,
   "metadata": {
    "execution": {
     "iopub.execute_input": "2024-12-03T00:52:39.343574Z",
     "iopub.status.busy": "2024-12-03T00:52:39.342818Z",
     "iopub.status.idle": "2024-12-03T00:52:39.352091Z",
     "shell.execute_reply": "2024-12-03T00:52:39.351174Z",
     "shell.execute_reply.started": "2024-12-03T00:52:39.343525Z"
    },
    "trusted": true
   },
   "outputs": [],
   "source": [
    "def ball_distance_dictionary(player_df : pd.DataFrame) -> (dict, int): \n",
    "    player_sep = {}\n",
    "    football = player_df[player_df.displayName == 'football'].reset_index(drop=True)\n",
    "    for i in range(len(player_df.displayName.unique())):\n",
    "        player = player_df[player_df.displayName == players[i]].reset_index(drop=True)\n",
    "        if player.displayName[0] != \"football\":\n",
    "            distances = list(zip(player.x, player.y))\n",
    "            seps = []\n",
    "            for idx, (x_dist, y_dist) in enumerate(distances):\n",
    "                sep = ((football.x[idx] - x_dist)**2 + (football.y[idx] - y_dist)**2)\n",
    "                seps.append(sep)\n",
    "                frames = len(seps)\n",
    "        player_sep[players[i]] = seps\n",
    "    return player_sep, frames"
   ]
  },
  {
   "cell_type": "code",
   "execution_count": null,
   "metadata": {
    "execution": {
     "iopub.execute_input": "2024-12-03T00:52:39.353655Z",
     "iopub.status.busy": "2024-12-03T00:52:39.353313Z",
     "iopub.status.idle": "2024-12-03T00:52:39.368185Z",
     "shell.execute_reply": "2024-12-03T00:52:39.367070Z",
     "shell.execute_reply.started": "2024-12-03T00:52:39.353624Z"
    },
    "trusted": true
   },
   "outputs": [],
   "source": [
    "def player_with_ball() -> list:\n",
    "    player_sep, frames = ball_distance_dictionary(after_snap)\n",
    "    player_with_ball = [None] * frames\n",
    "    \n",
    "    for frame in range(frames):\n",
    "        curr = None\n",
    "        curr_dist = 17209\n",
    "        for player in players:\n",
    "            if player_sep[player][frame] < 1:\n",
    "                curr = player\n",
    "                curr_dist = player_sep[player][frame]\n",
    "            if curr is not None and player_sep[player][frame] < curr_dist:\n",
    "                curr = player\n",
    "                curr_dist = player_sep[player][frame]\n",
    "        if curr is not None:\n",
    "            player_with_ball[frame] = (curr, curr_dist)\n",
    "        else:\n",
    "            player_with_ball[frame] = ('In air', None)\n",
    "\n",
    "    return player_with_ball"
   ]
  },
  {
   "cell_type": "code",
   "execution_count": null,
   "metadata": {},
   "outputs": [],
   "source": [
    "# Function predicts the movement of the ball for the next k frames using linear regression performed on the x and y data. \n",
    "\n",
    "def predict_next_k_frames(k: int) -> pd.DataFrame: \n",
    "    players = after_snap['displayName'].unique()\n",
    "    new_after_snap = pd.DataFrame()\n",
    "\n",
    "    for value in players:\n",
    "        player_data = after_snap.loc[after_snap['displayName'] == value]\n",
    "        x_data = [(row['frameId'], row['x']) for _, row in player_data.iterrows()]\n",
    "        y_data = [(row['frameId'], row['y']) for _, row in player_data.iterrows()]\n",
    "\n",
    "        X = np.array([point[0] for point in x_data]).reshape(-1, 1)  # Reshape to 2D array\n",
    "        x_pred = np.array([point[1] for point in x_data])\n",
    "        model_x = LinearRegression()\n",
    "        model_x.fit(X, x_pred)\n",
    "        max_frameid = y_data[-1][0]\n",
    "        next_frame_ids = np.array([max_frameid + i for i in range(1, k + 1)]).reshape(-1, 1)\n",
    "        predicted_x = model_x.predict(next_frame_ids)    \n",
    "        \n",
    "        Y = np.array([point[0] for point in y_data]).reshape(-1, 1)  # Reshape to 2D array\n",
    "        y_pred = np.array([point[1] for point in y_data])\n",
    "        model_y = LinearRegression()\n",
    "        model_y.fit(Y, y_pred)\n",
    "        max_frameid = y_data[-1][0]\n",
    "        next_frame_ids = np.array([max_frameid + i for i in range(1, k + 1)]).reshape(-1, 1)\n",
    "        predicted_y = model_y.predict(next_frame_ids)    \n",
    "        \n",
    "\n",
    "        new_rows = pd.DataFrame({\n",
    "            'frameId': next_frame_ids.flatten(),\n",
    "            'x': predicted_x.flatten(),\n",
    "            'y': predicted_y.flatten()\n",
    "        })\n",
    "\n",
    "        for col in after_snap.columns:\n",
    "            if col not in new_rows.columns:  \n",
    "                new_rows[col] = after_snap[col].iloc[-1]\n",
    "\n",
    "        updated_player_data = pd.concat([player_data, new_rows], ignore_index=True)\n",
    "        new_after_snap = pd.concat([new_after_snap, updated_player_data], ignore_index=True)\n",
    "\n",
    "    return new_after_snap"
   ]
  }
 ],
 "metadata": {
  "kaggle": {
   "accelerator": "none",
   "dataSources": [
    {
     "databundleVersionId": 9816926,
     "sourceId": 84175,
     "sourceType": "competition"
    }
   ],
   "dockerImageVersionId": 30786,
   "isGpuEnabled": false,
   "isInternetEnabled": true,
   "language": "python",
   "sourceType": "notebook"
  },
  "kernelspec": {
   "display_name": "Python 3",
   "language": "python",
   "name": "python3"
  },
  "language_info": {
   "codemirror_mode": {
    "name": "ipython",
    "version": 3
   },
   "file_extension": ".py",
   "mimetype": "text/x-python",
   "name": "python",
   "nbconvert_exporter": "python",
   "pygments_lexer": "ipython3",
   "version": "3.10.13"
  }
 },
 "nbformat": 4,
 "nbformat_minor": 4
}
