{
 "cells": [
  {
   "cell_type": "markdown",
   "metadata": {},
   "source": [
    "# Working Code"
   ]
  },
  {
   "cell_type": "markdown",
   "metadata": {},
   "source": [
    "## Necessary Libraries"
   ]
  },
  {
   "cell_type": "code",
   "execution_count": 1,
   "metadata": {
    "execution": {
     "iopub.execute_input": "2025-01-03T01:44:51.221121Z",
     "iopub.status.busy": "2025-01-03T01:44:51.220709Z",
     "iopub.status.idle": "2025-01-03T01:44:52.402875Z",
     "shell.execute_reply": "2025-01-03T01:44:52.401561Z",
     "shell.execute_reply.started": "2025-01-03T01:44:51.221069Z"
    },
    "trusted": true
   },
   "outputs": [],
   "source": [
    "import numpy as np\n",
    "import pandas as pd\n",
    "import matplotlib.pyplot as plt\n",
    "import os\n",
    "from sklearn.linear_model import LinearRegression\n",
    "import ffmpeg"
   ]
  },
  {
   "cell_type": "markdown",
   "metadata": {},
   "source": [
    "## Getting Data"
   ]
  },
  {
   "cell_type": "code",
   "execution_count": 2,
   "metadata": {
    "execution": {
     "iopub.execute_input": "2025-01-03T01:44:52.405909Z",
     "iopub.status.busy": "2025-01-03T01:44:52.405310Z",
     "iopub.status.idle": "2025-01-03T01:45:19.859225Z",
     "shell.execute_reply": "2025-01-03T01:45:19.858215Z",
     "shell.execute_reply.started": "2025-01-03T01:44:52.405861Z"
    },
    "trusted": true
   },
   "outputs": [],
   "source": [
    "#for kaggle\n",
    "#tracking_week_1 = pd.read_csv(\"/kaggle/input/nfl-big-data-bowl-2025/tracking_week_1.csv\")\n",
    "\n",
    "#for local notebook\n",
    "parent = os.path.dirname(os.getcwd())\n",
    "tracking_week_1 = pd.read_csv(parent + \"/data/tracking_week_1.csv\") "
   ]
  },
  {
   "cell_type": "code",
   "execution_count": 3,
   "metadata": {
    "execution": {
     "iopub.execute_input": "2025-01-03T01:45:19.860714Z",
     "iopub.status.busy": "2025-01-03T01:45:19.860366Z",
     "iopub.status.idle": "2025-01-03T01:45:19.896089Z",
     "shell.execute_reply": "2025-01-03T01:45:19.894893Z",
     "shell.execute_reply.started": "2025-01-03T01:45:19.860680Z"
    },
    "trusted": true
   },
   "outputs": [],
   "source": [
    "play1 = tracking_week_1[(tracking_week_1.gameId == 2022091200) & (tracking_week_1.playId == 64)]\n",
    "\n",
    "before_snap = play1[play1.frameType == \"BEFORE_SNAP\"]\n",
    "snap = play1[play1.frameType == \"SNAP\"]\n",
    "after_snap = play1[play1.frameType == \"AFTER_SNAP\"]"
   ]
  },
  {
   "cell_type": "markdown",
   "metadata": {},
   "source": [
    "## Functions "
   ]
  },
  {
   "cell_type": "code",
   "execution_count": 4,
   "metadata": {
    "execution": {
     "iopub.execute_input": "2025-01-03T01:45:19.897645Z",
     "iopub.status.busy": "2025-01-03T01:45:19.897324Z",
     "iopub.status.idle": "2025-01-03T01:45:19.908984Z",
     "shell.execute_reply": "2025-01-03T01:45:19.907841Z",
     "shell.execute_reply.started": "2025-01-03T01:45:19.897614Z"
    },
    "trusted": true
   },
   "outputs": [],
   "source": [
    "def ball_distance_dictionary(player_df : pd.DataFrame) -> (dict, int): \n",
    "    player_sep = {}\n",
    "    players = player_df.displayName.unique()\n",
    "    football = player_df[player_df.displayName == 'football'].reset_index(drop=True)\n",
    "    for i in range(len(player_df.displayName.unique())):\n",
    "        player = player_df[player_df.displayName == players[i]].reset_index(drop=True)\n",
    "        if player.displayName[0] != \"football\":\n",
    "            distances = list(zip(player.x, player.y))\n",
    "            seps = []\n",
    "            for idx, (x_dist, y_dist) in enumerate(distances):\n",
    "                sep = ((football.x[idx] - x_dist)**2 + (football.y[idx] - y_dist)**2)\n",
    "                seps.append(sep)\n",
    "                frames = len(seps)\n",
    "        player_sep[players[i]] = seps\n",
    "    return player_sep, frames\n",
    "\n",
    "def player_with_ball(player_df : pd.DataFrame) -> list:\n",
    "    player_sep, frames = ball_distance_dictionary(player_df)\n",
    "    player_with_ball = [None] * frames\n",
    "    players = player_df.displayName.unique()\n",
    "    \n",
    "    for frame in range(frames):\n",
    "        curr = None\n",
    "        curr_dist = 17209\n",
    "        for player in players:\n",
    "            if player_sep[player][frame] < 1:\n",
    "                curr = player\n",
    "                curr_dist = player_sep[player][frame]\n",
    "            if curr is not None and player_sep[player][frame] < curr_dist:\n",
    "                curr = player\n",
    "                curr_dist = player_sep[player][frame]\n",
    "        if curr is not None:\n",
    "            player_with_ball[frame] = (curr, curr_dist)\n",
    "        else:\n",
    "            player_with_ball[frame] = ('In air', None)\n",
    "\n",
    "    return player_with_ball"
   ]
  },
  {
   "cell_type": "code",
   "execution_count": 5,
   "metadata": {},
   "outputs": [],
   "source": [
    "def predict_next_k_frames(play: pd.DataFrame, k: int) -> pd.DataFrame: \n",
    "    players = play['displayName'].unique()\n",
    "    new_after_snap = pd.DataFrame()\n",
    "\n",
    "    for value in players:\n",
    "        player_data = play.loc[play['displayName'] == value]\n",
    "        x_data = [(row['frameId'], row['x']) for _, row in player_data.iterrows()]\n",
    "        y_data = [(row['frameId'], row['y']) for _, row in player_data.iterrows()]\n",
    "\n",
    "        X = np.array([point[0] for point in x_data]).reshape(-1, 1)  # Reshape to 2D array\n",
    "        x_pred = np.array([point[1] for point in x_data])\n",
    "        model_x = LinearRegression()\n",
    "        model_x.fit(X, x_pred)\n",
    "        max_frameid = y_data[-1][0]\n",
    "        next_frame_ids = np.array([max_frameid + i for i in range(1, k + 1)]).reshape(-1, 1)\n",
    "        predicted_x = model_x.predict(next_frame_ids)  \n",
    "        \n",
    "        Y = np.array([point[0] for point in y_data]).reshape(-1, 1)  # Reshape to 2D array\n",
    "        y_pred = np.array([point[1] for point in y_data])\n",
    "        model_y = LinearRegression()\n",
    "        model_y.fit(Y, y_pred)\n",
    "        max_frameid = y_data[-1][0]\n",
    "        next_frame_ids = np.array([max_frameid + i for i in range(1, k + 1)]).reshape(-1, 1)\n",
    "        predicted_y = model_y.predict(next_frame_ids)    \n",
    "        \n",
    "\n",
    "        new_rows = pd.DataFrame({\n",
    "            'frameId': next_frame_ids.flatten(),\n",
    "            'x': predicted_x.flatten(),\n",
    "            'y': predicted_y.flatten()\n",
    "        })\n",
    "\n",
    "        for col in play.columns:\n",
    "            if col not in new_rows.columns:  \n",
    "                new_rows[col] = play[col].iloc[-1]\n",
    "        \n",
    "        updated_player_data = pd.concat([player_data, new_rows], ignore_index=True)\n",
    "        new_after_snap = pd.concat([new_after_snap, updated_player_data], ignore_index=True)\n",
    "\n",
    "    return new_after_snap"
   ]
  },
  {
   "cell_type": "markdown",
   "metadata": {},
   "source": [
    "## Making graphs of the play that label the player with the ball"
   ]
  },
  {
   "cell_type": "code",
   "execution_count": 6,
   "metadata": {},
   "outputs": [
    {
     "name": "stdout",
     "output_type": "stream",
     "text": [
      "1 163\n"
     ]
    }
   ],
   "source": [
    "print(play1.frameId.min(), play1.frameId.max())"
   ]
  },
  {
   "cell_type": "code",
   "execution_count": 12,
   "metadata": {},
   "outputs": [],
   "source": [
    "pred_start = 1\n",
    "pred_stop = 133\n",
    "prediction_play = predict_next_k_frames(after_snap[(after_snap.frameId >= pred_start) & (after_snap.frameId <= pred_stop)], 30) "
   ]
  },
  {
   "cell_type": "code",
   "execution_count": 20,
   "metadata": {
    "execution": {
     "iopub.execute_input": "2025-01-03T01:45:19.912957Z",
     "iopub.status.busy": "2025-01-03T01:45:19.912498Z",
     "iopub.status.idle": "2025-01-03T01:45:45.148464Z",
     "shell.execute_reply": "2025-01-03T01:45:45.147528Z",
     "shell.execute_reply.started": "2025-01-03T01:45:19.912909Z"
    },
    "trusted": true
   },
   "outputs": [],
   "source": [
    "frames = []\n",
    "i = 0\n",
    "ball_posessions = player_with_ball(play1)\n",
    "for frame in play1.frameId.unique():\n",
    "    play_at_frame = play1[play1.frameId == frame].sort_values(by=\"jerseyNumber\").reset_index(drop=True)\n",
    "    players = play_at_frame[:-1]\n",
    "    ball = play_at_frame[-1:] \n",
    "\n",
    "    plt.xlim(0, 120)\n",
    "    plt.ylim(0, 53.3)\n",
    "    plt.scatter(players.x, players.y, c=range(len(players)))\n",
    "    plt.scatter(ball.x, ball.y, c=\"red\", marker=\"*\") \n",
    "    plt.title(play_at_frame.frameType[0])\n",
    "\n",
    "    player = ball_posessions[i][0]\n",
    "    if (player != \"In air\"): \n",
    "        player_x = list(play_at_frame[play_at_frame.displayName == player].x)[0]\n",
    "        player_y = list(play_at_frame[play_at_frame.displayName == player].y)[0]\n",
    "        plt.text(player_x, player_y, player)\n",
    "\n",
    "    if play_at_frame.frameType[0] == \"AFTER_SNAP\":\n",
    "        pred_at_frame = prediction_play[prediction_play.frameId == frame].sort_values(by=\"jerseyNumber\").reset_index(drop=True)\n",
    "        pred_players = pred_at_frame[:-1]\n",
    "        pred_ball = pred_at_frame[-1:] \n",
    "        plt.scatter(pred_players.x, pred_players.y, c=range(len(players)), alpha=0.3)\n",
    "        plt.scatter(pred_ball.x, pred_ball.y, c=\"red\", marker=\"*\", alpha = 0.3) \n",
    "\n",
    "    plt.savefig(f\"img{i}.png\")\n",
    "    plt.close()\n",
    "    i += 1"
   ]
  },
  {
   "cell_type": "markdown",
   "metadata": {},
   "source": [
    "### Calculating frame rate"
   ]
  },
  {
   "cell_type": "code",
   "execution_count": 16,
   "metadata": {
    "execution": {
     "iopub.execute_input": "2025-01-03T01:45:45.163363Z",
     "iopub.status.busy": "2025-01-03T01:45:45.162905Z",
     "iopub.status.idle": "2025-01-03T01:45:45.182625Z",
     "shell.execute_reply": "2025-01-03T01:45:45.181252Z",
     "shell.execute_reply.started": "2025-01-03T01:45:45.163316Z"
    },
    "trusted": true
   },
   "outputs": [
    {
     "name": "stdout",
     "output_type": "stream",
     "text": [
      "Frame rate: 10.06172839506173\n"
     ]
    }
   ],
   "source": [
    "play_length = (pd.to_datetime(play1.time.max()) - pd.to_datetime(play1.time.min())).total_seconds()\n",
    "num_frames = len(play1.frameId.unique())\n",
    "print(f\"Frame rate: {num_frames / play_length}\")"
   ]
  },
  {
   "cell_type": "markdown",
   "metadata": {},
   "source": [
    "## Create animation from PNGs"
   ]
  },
  {
   "cell_type": "code",
   "execution_count": 15,
   "metadata": {
    "collapsed": true,
    "execution": {
     "iopub.execute_input": "2025-01-03T01:45:45.184347Z",
     "iopub.status.busy": "2025-01-03T01:45:45.183974Z",
     "iopub.status.idle": "2025-01-03T01:45:46.268453Z",
     "shell.execute_reply": "2025-01-03T01:45:46.267396Z",
     "shell.execute_reply.started": "2025-01-03T01:45:45.184315Z"
    },
    "jupyter": {
     "outputs_hidden": true
    },
    "trusted": true
   },
   "outputs": [
    {
     "name": "stderr",
     "output_type": "stream",
     "text": [
      "sh: ffmpeg: command not found\n"
     ]
    },
    {
     "data": {
      "text/plain": [
       "32512"
      ]
     },
     "execution_count": 15,
     "metadata": {},
     "output_type": "execute_result"
    }
   ],
   "source": [
    "#locally, install ffmpeg and from the parent directory run: ffmpeg -r 10.06 -i notebooks/img%01d.png -vcodec mpeg4 -y movie.mp4\n",
    "os.system(\"ffmpeg -r 10.06 -i img%01d.png -vcodec mpeg4 -y movie.mp4\")"
   ]
  },
  {
   "cell_type": "markdown",
   "metadata": {},
   "source": [
    "### Delete PNGs"
   ]
  },
  {
   "cell_type": "code",
   "execution_count": 21,
   "metadata": {
    "execution": {
     "iopub.execute_input": "2025-01-03T01:45:46.270084Z",
     "iopub.status.busy": "2025-01-03T01:45:46.269736Z",
     "iopub.status.idle": "2025-01-03T01:45:46.281738Z",
     "shell.execute_reply": "2025-01-03T01:45:46.280547Z",
     "shell.execute_reply.started": "2025-01-03T01:45:46.270051Z"
    },
    "trusted": true
   },
   "outputs": [],
   "source": [
    "#courtesy of Gemini\n",
    "def delete_png_files(folder_path):\n",
    "    \"\"\"Deletes all PNG files in the specified folder.\"\"\"\n",
    "\n",
    "    for filename in os.listdir(folder_path):\n",
    "        if filename.endswith(\".png\"):\n",
    "            file_path = os.path.join(folder_path, filename)\n",
    "            try:\n",
    "                os.remove(file_path)\n",
    "            except OSError as e:\n",
    "                print(f\"Error deleting {file_path}: {e}\")\n",
    "\n",
    "# Specify the folder path where you want to delete PNG files\n",
    "folder_path = os.getcwd()#\"/kaggle/working\" \n",
    "\n",
    "# Call the function to delete PNG files\n",
    "delete_png_files(folder_path)"
   ]
  },
  {
   "cell_type": "markdown",
   "metadata": {},
   "source": [
    "# Testing / Experiments"
   ]
  },
  {
   "cell_type": "code",
   "execution_count": null,
   "metadata": {
    "_cell_guid": "b1076dfc-b9ad-4769-8c92-a6c4dae69d19",
    "_uuid": "8f2839f25d086af736a60e9eeb907d3b93b6e0e5",
    "execution": {
     "iopub.execute_input": "2025-01-03T00:52:49.101007Z",
     "iopub.status.busy": "2025-01-03T00:52:49.100564Z",
     "iopub.status.idle": "2025-01-03T00:52:50.354446Z",
     "shell.execute_reply": "2025-01-03T00:52:50.353294Z",
     "shell.execute_reply.started": "2025-01-03T00:52:49.100960Z"
    },
    "trusted": true
   },
   "outputs": [],
   "source": [
    "import numpy as np # linear algebra\n",
    "import pandas as pd # data processing, CSV file I/O (e.g. pd.read_csv)\n",
    "import matplotlib.pyplot as plt\n",
    "import matplotlib.animation as animation\n",
    "import os"
   ]
  },
  {
   "cell_type": "code",
   "execution_count": null,
   "metadata": {
    "execution": {
     "iopub.execute_input": "2025-01-03T00:52:50.357821Z",
     "iopub.status.busy": "2025-01-03T00:52:50.357188Z",
     "iopub.status.idle": "2025-01-03T00:53:19.180412Z",
     "shell.execute_reply": "2025-01-03T00:53:19.179108Z",
     "shell.execute_reply.started": "2025-01-03T00:52:50.357767Z"
    },
    "trusted": true
   },
   "outputs": [],
   "source": [
    "games = pd.read_csv(\"/kaggle/input/nfl-big-data-bowl-2025/games.csv\")\n",
    "player_play = pd.read_csv(\"/kaggle/input/nfl-big-data-bowl-2025/player_play.csv\")\n",
    "players = pd.read_csv(\"/kaggle/input/nfl-big-data-bowl-2025/players.csv\")\n",
    "plays = pd.read_csv(\"/kaggle/input/nfl-big-data-bowl-2025/plays.csv\")\n",
    "tracking_week_1 = pd.read_csv(\"/kaggle/input/nfl-big-data-bowl-2025/tracking_week_1.csv\")\n",
    "#tracking_week_2 = pd.read_csv(\"/kaggle/input/nfl-big-data-bowl-2025/tracking_week_2.csv\")\n",
    "#tracking_week_3 = pd.read_csv(\"/kaggle/input/nfl-big-data-bowl-2025/tracking_week_3.csv\")\n",
    "#tracking_week_4 = pd.read_csv(\"/kaggle/input/nfl-big-data-bowl-2025/tracking_week_4.csv\")\n",
    "#tracking_week_5 = pd.read_csv(\"/kaggle/input/nfl-big-data-bowl-2025/tracking_week_5.csv\")\n",
    "#tracking_week_6 = pd.read_csv(\"/kaggle/input/nfl-big-data-bowl-2025/tracking_week_6.csv\")\n",
    "#tracking_week_7 = pd.read_csv(\"/kaggle/input/nfl-big-data-bowl-2025/tracking_week_7.csv\")\n",
    "#tracking_week_8 = pd.read_csv(\"/kaggle/input/nfl-big-data-bowl-2025/tracking_week_8.csv\")\n",
    "#tracking_week_9 = pd.read_csv(\"/kaggle/input/nfl-big-data-bowl-2025/tracking_week_9.csv\")"
   ]
  },
  {
   "cell_type": "code",
   "execution_count": null,
   "metadata": {
    "execution": {
     "iopub.execute_input": "2025-01-03T00:53:19.182069Z",
     "iopub.status.busy": "2025-01-03T00:53:19.181723Z",
     "iopub.status.idle": "2025-01-03T00:53:19.207010Z",
     "shell.execute_reply": "2025-01-03T00:53:19.205940Z",
     "shell.execute_reply.started": "2025-01-03T00:53:19.182034Z"
    },
    "trusted": true
   },
   "outputs": [],
   "source": [
    "games.head()"
   ]
  },
  {
   "cell_type": "code",
   "execution_count": null,
   "metadata": {
    "execution": {
     "iopub.execute_input": "2025-01-03T00:53:19.208692Z",
     "iopub.status.busy": "2025-01-03T00:53:19.208348Z",
     "iopub.status.idle": "2025-01-03T00:53:19.241621Z",
     "shell.execute_reply": "2025-01-03T00:53:19.240541Z",
     "shell.execute_reply.started": "2025-01-03T00:53:19.208652Z"
    },
    "trusted": true
   },
   "outputs": [],
   "source": [
    "print(player_play.shape)\n",
    "player_play.head()"
   ]
  },
  {
   "cell_type": "code",
   "execution_count": null,
   "metadata": {
    "execution": {
     "iopub.execute_input": "2025-01-03T00:53:19.244028Z",
     "iopub.status.busy": "2025-01-03T00:53:19.243172Z",
     "iopub.status.idle": "2025-01-03T00:53:19.260801Z",
     "shell.execute_reply": "2025-01-03T00:53:19.259500Z",
     "shell.execute_reply.started": "2025-01-03T00:53:19.243977Z"
    },
    "trusted": true
   },
   "outputs": [],
   "source": [
    "print(players.shape)\n",
    "players.head()"
   ]
  },
  {
   "cell_type": "code",
   "execution_count": null,
   "metadata": {
    "execution": {
     "iopub.execute_input": "2025-01-03T00:53:19.264815Z",
     "iopub.status.busy": "2025-01-03T00:53:19.264398Z",
     "iopub.status.idle": "2025-01-03T00:53:19.291055Z",
     "shell.execute_reply": "2025-01-03T00:53:19.289959Z",
     "shell.execute_reply.started": "2025-01-03T00:53:19.264760Z"
    },
    "trusted": true
   },
   "outputs": [],
   "source": [
    "print(plays.shape)\n",
    "plays.head()"
   ]
  },
  {
   "cell_type": "code",
   "execution_count": null,
   "metadata": {
    "execution": {
     "iopub.execute_input": "2025-01-03T00:53:19.296498Z",
     "iopub.status.busy": "2025-01-03T00:53:19.296092Z",
     "iopub.status.idle": "2025-01-03T00:53:19.342674Z",
     "shell.execute_reply": "2025-01-03T00:53:19.341607Z",
     "shell.execute_reply.started": "2025-01-03T00:53:19.296451Z"
    },
    "trusted": true
   },
   "outputs": [],
   "source": [
    "plays.sort_values(by=[\"gameId\", \"playId\"])"
   ]
  },
  {
   "cell_type": "code",
   "execution_count": null,
   "metadata": {
    "execution": {
     "iopub.execute_input": "2025-01-03T00:53:19.344486Z",
     "iopub.status.busy": "2025-01-03T00:53:19.344065Z",
     "iopub.status.idle": "2025-01-03T00:53:19.370720Z",
     "shell.execute_reply": "2025-01-03T00:53:19.369416Z",
     "shell.execute_reply.started": "2025-01-03T00:53:19.344440Z"
    },
    "trusted": true
   },
   "outputs": [],
   "source": [
    "print(tracking_week_1.shape)\n",
    "tracking_week_1.head()"
   ]
  },
  {
   "cell_type": "code",
   "execution_count": null,
   "metadata": {
    "execution": {
     "iopub.execute_input": "2025-01-03T00:53:19.372702Z",
     "iopub.status.busy": "2025-01-03T00:53:19.372249Z",
     "iopub.status.idle": "2025-01-03T00:53:19.427117Z",
     "shell.execute_reply": "2025-01-03T00:53:19.425967Z",
     "shell.execute_reply.started": "2025-01-03T00:53:19.372651Z"
    },
    "trusted": true
   },
   "outputs": [],
   "source": [
    "tracking_week_1.gameId.unique()"
   ]
  },
  {
   "cell_type": "code",
   "execution_count": null,
   "metadata": {
    "execution": {
     "iopub.execute_input": "2025-01-03T00:53:19.428784Z",
     "iopub.status.busy": "2025-01-03T00:53:19.428349Z",
     "iopub.status.idle": "2025-01-03T00:53:19.755150Z",
     "shell.execute_reply": "2025-01-03T00:53:19.754095Z",
     "shell.execute_reply.started": "2025-01-03T00:53:19.428735Z"
    },
    "trusted": true
   },
   "outputs": [],
   "source": [
    "tracking_week_1.playDirection.unique()"
   ]
  },
  {
   "cell_type": "code",
   "execution_count": null,
   "metadata": {
    "execution": {
     "iopub.execute_input": "2025-01-03T00:53:19.756685Z",
     "iopub.status.busy": "2025-01-03T00:53:19.756396Z",
     "iopub.status.idle": "2025-01-03T00:53:19.813177Z",
     "shell.execute_reply": "2025-01-03T00:53:19.811822Z",
     "shell.execute_reply.started": "2025-01-03T00:53:19.756657Z"
    },
    "trusted": true
   },
   "outputs": [],
   "source": [
    "tracking_week_1[tracking_week_1.gameId == 2022091200].playId.unique()"
   ]
  },
  {
   "cell_type": "code",
   "execution_count": null,
   "metadata": {
    "execution": {
     "iopub.execute_input": "2025-01-03T00:53:19.814731Z",
     "iopub.status.busy": "2025-01-03T00:53:19.814425Z",
     "iopub.status.idle": "2025-01-03T00:53:20.176885Z",
     "shell.execute_reply": "2025-01-03T00:53:20.175947Z",
     "shell.execute_reply.started": "2025-01-03T00:53:19.814702Z"
    },
    "trusted": true
   },
   "outputs": [],
   "source": [
    "tracking_week_1.frameType.unique()"
   ]
  },
  {
   "cell_type": "code",
   "execution_count": null,
   "metadata": {
    "execution": {
     "iopub.execute_input": "2025-01-03T00:53:20.178735Z",
     "iopub.status.busy": "2025-01-03T00:53:20.178307Z",
     "iopub.status.idle": "2025-01-03T00:53:20.201655Z",
     "shell.execute_reply": "2025-01-03T00:53:20.200107Z",
     "shell.execute_reply.started": "2025-01-03T00:53:20.178685Z"
    },
    "trusted": true
   },
   "outputs": [],
   "source": [
    "play1 = tracking_week_1[(tracking_week_1.gameId == 2022091200) & (tracking_week_1.playId == 64)]"
   ]
  },
  {
   "cell_type": "code",
   "execution_count": null,
   "metadata": {
    "execution": {
     "iopub.execute_input": "2025-01-03T00:53:20.203148Z",
     "iopub.status.busy": "2025-01-03T00:53:20.202836Z",
     "iopub.status.idle": "2025-01-03T00:53:20.280551Z",
     "shell.execute_reply": "2025-01-03T00:53:20.279420Z",
     "shell.execute_reply.started": "2025-01-03T00:53:20.203118Z"
    },
    "trusted": true
   },
   "outputs": [],
   "source": [
    "print(tracking_week_1.x.aggregate([\"min\", \"max\"]))\n",
    "print(tracking_week_1.y.aggregate([\"min\", \"max\"]))"
   ]
  },
  {
   "cell_type": "code",
   "execution_count": null,
   "metadata": {
    "execution": {
     "iopub.execute_input": "2025-01-03T00:53:20.282583Z",
     "iopub.status.busy": "2025-01-03T00:53:20.282246Z",
     "iopub.status.idle": "2025-01-03T00:53:20.292180Z",
     "shell.execute_reply": "2025-01-03T00:53:20.291068Z",
     "shell.execute_reply.started": "2025-01-03T00:53:20.282551Z"
    },
    "trusted": true
   },
   "outputs": [],
   "source": [
    "before_snap = play1[play1.frameType == \"BEFORE_SNAP\"]\n",
    "snap = play1[play1.frameType == \"SNAP\"]\n",
    "after_snap = play1[play1.frameType == \"AFTER_SNAP\"]"
   ]
  },
  {
   "cell_type": "code",
   "execution_count": 18,
   "metadata": {
    "execution": {
     "iopub.execute_input": "2025-01-03T00:53:20.294057Z",
     "iopub.status.busy": "2025-01-03T00:53:20.293636Z",
     "iopub.status.idle": "2025-01-03T00:53:20.307818Z",
     "shell.execute_reply": "2025-01-03T00:53:20.306678Z",
     "shell.execute_reply.started": "2025-01-03T00:53:20.294005Z"
    },
    "trusted": true
   },
   "outputs": [
    {
     "data": {
      "text/plain": [
       "array(['Kareem Jackson', 'Geno Smith', 'Gabe Jackson', 'Ronald Darby',\n",
       "       'Randy Gregory', 'Tyler Lockett', 'DeShawn Williams',\n",
       "       'Alex Singleton', 'Justin Simmons', 'Austin Blythe', 'D.J. Jones',\n",
       "       'Bradley Chubb', 'Rashaad Penny', 'Will Dissly', 'Noah Fant',\n",
       "       'DK Metcalf', \"Dre'Mont Jones\", 'Phil Haynes', 'Jonas Griffith',\n",
       "       'Patrick Surtain', 'Charles Cross', 'Abraham Lucas', 'football'],\n",
       "      dtype=object)"
      ]
     },
     "execution_count": 18,
     "metadata": {},
     "output_type": "execute_result"
    }
   ],
   "source": [
    "players = before_snap.displayName.unique()\n",
    "players"
   ]
  },
  {
   "cell_type": "code",
   "execution_count": 19,
   "metadata": {},
   "outputs": [
    {
     "data": {
      "text/plain": [
       "23"
      ]
     },
     "execution_count": 19,
     "metadata": {},
     "output_type": "execute_result"
    }
   ],
   "source": [
    "len(players)"
   ]
  },
  {
   "cell_type": "code",
   "execution_count": null,
   "metadata": {
    "execution": {
     "iopub.execute_input": "2025-01-03T00:53:20.312788Z",
     "iopub.status.busy": "2025-01-03T00:53:20.312400Z",
     "iopub.status.idle": "2025-01-03T00:53:20.338449Z",
     "shell.execute_reply": "2025-01-03T00:53:20.337401Z",
     "shell.execute_reply.started": "2025-01-03T00:53:20.312744Z"
    },
    "trusted": true
   },
   "outputs": [],
   "source": [
    "player0 = before_snap[before_snap.displayName == players[0]]\n",
    "player0"
   ]
  },
  {
   "cell_type": "code",
   "execution_count": null,
   "metadata": {
    "execution": {
     "iopub.execute_input": "2025-01-03T00:53:20.340188Z",
     "iopub.status.busy": "2025-01-03T00:53:20.339754Z",
     "iopub.status.idle": "2025-01-03T00:53:20.353595Z",
     "shell.execute_reply": "2025-01-03T00:53:20.352508Z",
     "shell.execute_reply.started": "2025-01-03T00:53:20.340154Z"
    },
    "trusted": true
   },
   "outputs": [],
   "source": [
    "player0.loc[:, [\"x\", \"y\"]].isna().sum()"
   ]
  },
  {
   "cell_type": "code",
   "execution_count": null,
   "metadata": {
    "execution": {
     "iopub.execute_input": "2025-01-03T00:53:20.355275Z",
     "iopub.status.busy": "2025-01-03T00:53:20.354962Z",
     "iopub.status.idle": "2025-01-03T00:53:20.368540Z",
     "shell.execute_reply": "2025-01-03T00:53:20.367277Z",
     "shell.execute_reply.started": "2025-01-03T00:53:20.355245Z"
    },
    "trusted": true
   },
   "outputs": [],
   "source": [
    "player0.time.aggregate([\"min\", \"max\"])"
   ]
  },
  {
   "cell_type": "code",
   "execution_count": null,
   "metadata": {
    "execution": {
     "iopub.execute_input": "2025-01-03T00:53:49.580989Z",
     "iopub.status.busy": "2025-01-03T00:53:49.580439Z",
     "iopub.status.idle": "2025-01-03T00:53:49.596271Z",
     "shell.execute_reply": "2025-01-03T00:53:49.594951Z",
     "shell.execute_reply.started": "2025-01-03T00:53:49.580934Z"
    },
    "trusted": true
   },
   "outputs": [],
   "source": [
    "player0.displayName.reset_index(drop=True)"
   ]
  },
  {
   "cell_type": "code",
   "execution_count": null,
   "metadata": {
    "execution": {
     "iopub.execute_input": "2025-01-03T00:53:52.093732Z",
     "iopub.status.busy": "2025-01-03T00:53:52.093307Z",
     "iopub.status.idle": "2025-01-03T00:53:53.327726Z",
     "shell.execute_reply": "2025-01-03T00:53:53.326533Z",
     "shell.execute_reply.started": "2025-01-03T00:53:52.093695Z"
    },
    "trusted": true
   },
   "outputs": [],
   "source": [
    "n = 0\n",
    "frames = []\n",
    "for frameType in [before_snap, snap, after_snap]:\n",
    "    plt.xlim(0, 120)\n",
    "    plt.ylim(0, 53.3)\n",
    "    for i in range(len(frameType.displayName.unique())):\n",
    "        player = frameType[frameType.displayName == players[i]].reset_index(drop=True)\n",
    "        if player.displayName[0] == \"football\":\n",
    "            plt.scatter(player.x, player.y, c=\"red\")\n",
    "            plt.text(list(player.x)[-1], list(player.y)[-1], \"FB\")\n",
    "        else:\n",
    "            plt.scatter(player.x, player.y, c=player.frameId)\n",
    "            #plt.text(list(player.x)[-1], list(player.y)[-1], list(player.jerseyNumber)[-1])\n",
    "    \n",
    "    title = \"\"\n",
    "    match n:\n",
    "        case 0: \n",
    "            title = \"before snap\"\n",
    "        case 1: \n",
    "            title = \"snap\"\n",
    "        case 2: \n",
    "            title = \"after snap\"\n",
    "    plt.title(title)\n",
    "    \n",
    "    plt.show()\n",
    "    n+=1"
   ]
  },
  {
   "cell_type": "code",
   "execution_count": null,
   "metadata": {
    "execution": {
     "iopub.execute_input": "2025-01-03T01:13:58.807160Z",
     "iopub.status.busy": "2025-01-03T01:13:58.806166Z",
     "iopub.status.idle": "2025-01-03T01:13:59.062322Z",
     "shell.execute_reply": "2025-01-03T01:13:59.061092Z",
     "shell.execute_reply.started": "2025-01-03T01:13:58.807106Z"
    },
    "trusted": true
   },
   "outputs": [],
   "source": [
    "after_snap = play1[play1.frameType == \"AFTER_SNAP\"]\n",
    "print(len(player_with_ball(play1)))\n",
    "player_with_ball(play1)"
   ]
  },
  {
   "cell_type": "code",
   "execution_count": 60,
   "metadata": {
    "trusted": true
   },
   "outputs": [],
   "source": [
    "def predict_next_k_frames(play: pd.DataFrame, k: int) -> pd.DataFrame: \n",
    "    players = play['displayName'].unique()\n",
    "    new_after_snap = pd.DataFrame()\n",
    "\n",
    "    for value in players:\n",
    "        player_data = after_snap.loc[play['displayName'] == value]\n",
    "        x_data = [(row['frameId'], row['x']) for _, row in player_data.iterrows()]\n",
    "        y_data = [(row['frameId'], row['y']) for _, row in player_data.iterrows()]\n",
    "\n",
    "        X = np.array([point[0] for point in x_data]).reshape(-1, 1)  # Reshape to 2D array\n",
    "        x_pred = np.array([point[1] for point in x_data])\n",
    "        model_x = LinearRegression()\n",
    "        model_x.fit(X, x_pred)\n",
    "        max_frameid = y_data[-1][0]\n",
    "        next_frame_ids = np.array([max_frameid + i for i in range(1, k + 1)]).reshape(-1, 1)\n",
    "        predicted_x = model_x.predict(next_frame_ids)  \n",
    "        \n",
    "        Y = np.array([point[0] for point in y_data]).reshape(-1, 1)  # Reshape to 2D array\n",
    "        y_pred = np.array([point[1] for point in y_data])\n",
    "        model_y = LinearRegression()\n",
    "        model_y.fit(Y, y_pred)\n",
    "        max_frameid = y_data[-1][0]\n",
    "        next_frame_ids = np.array([max_frameid + i for i in range(1, k + 1)]).reshape(-1, 1)\n",
    "        predicted_y = model_y.predict(next_frame_ids)    \n",
    "        \n",
    "\n",
    "        new_rows = pd.DataFrame({\n",
    "            'frameId': next_frame_ids.flatten(),\n",
    "            'x': predicted_x.flatten(),\n",
    "            'y': predicted_y.flatten()\n",
    "        })\n",
    "\n",
    "        for col in play.columns:\n",
    "            if col not in new_rows.columns:  \n",
    "                new_rows[col] = play[col].iloc[-1]\n",
    "        \n",
    "        updated_player_data = pd.concat([player_data, new_rows], ignore_index=True)\n",
    "        new_after_snap = pd.concat([new_after_snap, updated_player_data], ignore_index=True)\n",
    "\n",
    "    return new_after_snap"
   ]
  },
  {
   "cell_type": "code",
   "execution_count": 61,
   "metadata": {},
   "outputs": [
    {
     "data": {
      "text/html": [
       "<div>\n",
       "<style scoped>\n",
       "    .dataframe tbody tr th:only-of-type {\n",
       "        vertical-align: middle;\n",
       "    }\n",
       "\n",
       "    .dataframe tbody tr th {\n",
       "        vertical-align: top;\n",
       "    }\n",
       "\n",
       "    .dataframe thead th {\n",
       "        text-align: right;\n",
       "    }\n",
       "</style>\n",
       "<table border=\"1\" class=\"dataframe\">\n",
       "  <thead>\n",
       "    <tr style=\"text-align: right;\">\n",
       "      <th></th>\n",
       "      <th>gameId</th>\n",
       "      <th>playId</th>\n",
       "      <th>nflId</th>\n",
       "      <th>displayName</th>\n",
       "      <th>frameId</th>\n",
       "      <th>frameType</th>\n",
       "      <th>time</th>\n",
       "      <th>jerseyNumber</th>\n",
       "      <th>club</th>\n",
       "      <th>playDirection</th>\n",
       "      <th>x</th>\n",
       "      <th>y</th>\n",
       "      <th>s</th>\n",
       "      <th>a</th>\n",
       "      <th>dis</th>\n",
       "      <th>o</th>\n",
       "      <th>dir</th>\n",
       "      <th>event</th>\n",
       "    </tr>\n",
       "  </thead>\n",
       "  <tbody>\n",
       "    <tr>\n",
       "      <th>0</th>\n",
       "      <td>2022091200</td>\n",
       "      <td>64</td>\n",
       "      <td>35459.0</td>\n",
       "      <td>Kareem Jackson</td>\n",
       "      <td>115</td>\n",
       "      <td>AFTER_SNAP</td>\n",
       "      <td>2022-09-13 00:16:14.9</td>\n",
       "      <td>22.0</td>\n",
       "      <td>DEN</td>\n",
       "      <td>right</td>\n",
       "      <td>50.390000</td>\n",
       "      <td>29.340000</td>\n",
       "      <td>1.37</td>\n",
       "      <td>1.61</td>\n",
       "      <td>0.13</td>\n",
       "      <td>240.06</td>\n",
       "      <td>131.19</td>\n",
       "      <td>NaN</td>\n",
       "    </tr>\n",
       "    <tr>\n",
       "      <th>1</th>\n",
       "      <td>2022091200</td>\n",
       "      <td>64</td>\n",
       "      <td>35459.0</td>\n",
       "      <td>Kareem Jackson</td>\n",
       "      <td>116</td>\n",
       "      <td>AFTER_SNAP</td>\n",
       "      <td>2022-09-13 00:16:15</td>\n",
       "      <td>22.0</td>\n",
       "      <td>DEN</td>\n",
       "      <td>right</td>\n",
       "      <td>50.520000</td>\n",
       "      <td>29.240000</td>\n",
       "      <td>1.65</td>\n",
       "      <td>1.76</td>\n",
       "      <td>0.16</td>\n",
       "      <td>238.47</td>\n",
       "      <td>129.12</td>\n",
       "      <td>NaN</td>\n",
       "    </tr>\n",
       "    <tr>\n",
       "      <th>2</th>\n",
       "      <td>2022091200</td>\n",
       "      <td>64</td>\n",
       "      <td>35459.0</td>\n",
       "      <td>Kareem Jackson</td>\n",
       "      <td>117</td>\n",
       "      <td>AFTER_SNAP</td>\n",
       "      <td>2022-09-13 00:16:15.1</td>\n",
       "      <td>22.0</td>\n",
       "      <td>DEN</td>\n",
       "      <td>right</td>\n",
       "      <td>50.670000</td>\n",
       "      <td>29.120000</td>\n",
       "      <td>1.99</td>\n",
       "      <td>1.94</td>\n",
       "      <td>0.20</td>\n",
       "      <td>235.66</td>\n",
       "      <td>128.32</td>\n",
       "      <td>NaN</td>\n",
       "    </tr>\n",
       "    <tr>\n",
       "      <th>3</th>\n",
       "      <td>2022091200</td>\n",
       "      <td>64</td>\n",
       "      <td>35459.0</td>\n",
       "      <td>Kareem Jackson</td>\n",
       "      <td>118</td>\n",
       "      <td>AFTER_SNAP</td>\n",
       "      <td>2022-09-13 00:16:15.2</td>\n",
       "      <td>22.0</td>\n",
       "      <td>DEN</td>\n",
       "      <td>right</td>\n",
       "      <td>50.850000</td>\n",
       "      <td>28.980000</td>\n",
       "      <td>2.32</td>\n",
       "      <td>2.03</td>\n",
       "      <td>0.23</td>\n",
       "      <td>231.72</td>\n",
       "      <td>127.25</td>\n",
       "      <td>NaN</td>\n",
       "    </tr>\n",
       "    <tr>\n",
       "      <th>4</th>\n",
       "      <td>2022091200</td>\n",
       "      <td>64</td>\n",
       "      <td>35459.0</td>\n",
       "      <td>Kareem Jackson</td>\n",
       "      <td>119</td>\n",
       "      <td>AFTER_SNAP</td>\n",
       "      <td>2022-09-13 00:16:15.3</td>\n",
       "      <td>22.0</td>\n",
       "      <td>DEN</td>\n",
       "      <td>right</td>\n",
       "      <td>51.060000</td>\n",
       "      <td>28.820000</td>\n",
       "      <td>2.66</td>\n",
       "      <td>2.10</td>\n",
       "      <td>0.26</td>\n",
       "      <td>226.65</td>\n",
       "      <td>127.76</td>\n",
       "      <td>NaN</td>\n",
       "    </tr>\n",
       "    <tr>\n",
       "      <th>...</th>\n",
       "      <td>...</td>\n",
       "      <td>...</td>\n",
       "      <td>...</td>\n",
       "      <td>...</td>\n",
       "      <td>...</td>\n",
       "      <td>...</td>\n",
       "      <td>...</td>\n",
       "      <td>...</td>\n",
       "      <td>...</td>\n",
       "      <td>...</td>\n",
       "      <td>...</td>\n",
       "      <td>...</td>\n",
       "      <td>...</td>\n",
       "      <td>...</td>\n",
       "      <td>...</td>\n",
       "      <td>...</td>\n",
       "      <td>...</td>\n",
       "      <td>...</td>\n",
       "    </tr>\n",
       "    <tr>\n",
       "      <th>1237</th>\n",
       "      <td>2022091200</td>\n",
       "      <td>64</td>\n",
       "      <td>NaN</td>\n",
       "      <td>football</td>\n",
       "      <td>164</td>\n",
       "      <td>AFTER_SNAP</td>\n",
       "      <td>2022-09-13 00:16:19.7</td>\n",
       "      <td>NaN</td>\n",
       "      <td>football</td>\n",
       "      <td>right</td>\n",
       "      <td>40.417194</td>\n",
       "      <td>-2.195944</td>\n",
       "      <td>0.33</td>\n",
       "      <td>2.76</td>\n",
       "      <td>0.04</td>\n",
       "      <td>NaN</td>\n",
       "      <td>NaN</td>\n",
       "      <td>NaN</td>\n",
       "    </tr>\n",
       "    <tr>\n",
       "      <th>1238</th>\n",
       "      <td>2022091200</td>\n",
       "      <td>64</td>\n",
       "      <td>NaN</td>\n",
       "      <td>football</td>\n",
       "      <td>165</td>\n",
       "      <td>AFTER_SNAP</td>\n",
       "      <td>2022-09-13 00:16:19.7</td>\n",
       "      <td>NaN</td>\n",
       "      <td>football</td>\n",
       "      <td>right</td>\n",
       "      <td>40.551653</td>\n",
       "      <td>-2.743692</td>\n",
       "      <td>0.33</td>\n",
       "      <td>2.76</td>\n",
       "      <td>0.04</td>\n",
       "      <td>NaN</td>\n",
       "      <td>NaN</td>\n",
       "      <td>NaN</td>\n",
       "    </tr>\n",
       "    <tr>\n",
       "      <th>1239</th>\n",
       "      <td>2022091200</td>\n",
       "      <td>64</td>\n",
       "      <td>NaN</td>\n",
       "      <td>football</td>\n",
       "      <td>166</td>\n",
       "      <td>AFTER_SNAP</td>\n",
       "      <td>2022-09-13 00:16:19.7</td>\n",
       "      <td>NaN</td>\n",
       "      <td>football</td>\n",
       "      <td>right</td>\n",
       "      <td>40.686112</td>\n",
       "      <td>-3.291440</td>\n",
       "      <td>0.33</td>\n",
       "      <td>2.76</td>\n",
       "      <td>0.04</td>\n",
       "      <td>NaN</td>\n",
       "      <td>NaN</td>\n",
       "      <td>NaN</td>\n",
       "    </tr>\n",
       "    <tr>\n",
       "      <th>1240</th>\n",
       "      <td>2022091200</td>\n",
       "      <td>64</td>\n",
       "      <td>NaN</td>\n",
       "      <td>football</td>\n",
       "      <td>167</td>\n",
       "      <td>AFTER_SNAP</td>\n",
       "      <td>2022-09-13 00:16:19.7</td>\n",
       "      <td>NaN</td>\n",
       "      <td>football</td>\n",
       "      <td>right</td>\n",
       "      <td>40.820571</td>\n",
       "      <td>-3.839188</td>\n",
       "      <td>0.33</td>\n",
       "      <td>2.76</td>\n",
       "      <td>0.04</td>\n",
       "      <td>NaN</td>\n",
       "      <td>NaN</td>\n",
       "      <td>NaN</td>\n",
       "    </tr>\n",
       "    <tr>\n",
       "      <th>1241</th>\n",
       "      <td>2022091200</td>\n",
       "      <td>64</td>\n",
       "      <td>NaN</td>\n",
       "      <td>football</td>\n",
       "      <td>168</td>\n",
       "      <td>AFTER_SNAP</td>\n",
       "      <td>2022-09-13 00:16:19.7</td>\n",
       "      <td>NaN</td>\n",
       "      <td>football</td>\n",
       "      <td>right</td>\n",
       "      <td>40.955030</td>\n",
       "      <td>-4.386936</td>\n",
       "      <td>0.33</td>\n",
       "      <td>2.76</td>\n",
       "      <td>0.04</td>\n",
       "      <td>NaN</td>\n",
       "      <td>NaN</td>\n",
       "      <td>NaN</td>\n",
       "    </tr>\n",
       "  </tbody>\n",
       "</table>\n",
       "<p>1242 rows × 18 columns</p>\n",
       "</div>"
      ],
      "text/plain": [
       "          gameId  playId    nflId     displayName  frameId   frameType  \\\n",
       "0     2022091200      64  35459.0  Kareem Jackson      115  AFTER_SNAP   \n",
       "1     2022091200      64  35459.0  Kareem Jackson      116  AFTER_SNAP   \n",
       "2     2022091200      64  35459.0  Kareem Jackson      117  AFTER_SNAP   \n",
       "3     2022091200      64  35459.0  Kareem Jackson      118  AFTER_SNAP   \n",
       "4     2022091200      64  35459.0  Kareem Jackson      119  AFTER_SNAP   \n",
       "...          ...     ...      ...             ...      ...         ...   \n",
       "1237  2022091200      64      NaN        football      164  AFTER_SNAP   \n",
       "1238  2022091200      64      NaN        football      165  AFTER_SNAP   \n",
       "1239  2022091200      64      NaN        football      166  AFTER_SNAP   \n",
       "1240  2022091200      64      NaN        football      167  AFTER_SNAP   \n",
       "1241  2022091200      64      NaN        football      168  AFTER_SNAP   \n",
       "\n",
       "                       time  jerseyNumber      club playDirection          x  \\\n",
       "0     2022-09-13 00:16:14.9          22.0       DEN         right  50.390000   \n",
       "1       2022-09-13 00:16:15          22.0       DEN         right  50.520000   \n",
       "2     2022-09-13 00:16:15.1          22.0       DEN         right  50.670000   \n",
       "3     2022-09-13 00:16:15.2          22.0       DEN         right  50.850000   \n",
       "4     2022-09-13 00:16:15.3          22.0       DEN         right  51.060000   \n",
       "...                     ...           ...       ...           ...        ...   \n",
       "1237  2022-09-13 00:16:19.7           NaN  football         right  40.417194   \n",
       "1238  2022-09-13 00:16:19.7           NaN  football         right  40.551653   \n",
       "1239  2022-09-13 00:16:19.7           NaN  football         right  40.686112   \n",
       "1240  2022-09-13 00:16:19.7           NaN  football         right  40.820571   \n",
       "1241  2022-09-13 00:16:19.7           NaN  football         right  40.955030   \n",
       "\n",
       "              y     s     a   dis       o     dir event  \n",
       "0     29.340000  1.37  1.61  0.13  240.06  131.19   NaN  \n",
       "1     29.240000  1.65  1.76  0.16  238.47  129.12   NaN  \n",
       "2     29.120000  1.99  1.94  0.20  235.66  128.32   NaN  \n",
       "3     28.980000  2.32  2.03  0.23  231.72  127.25   NaN  \n",
       "4     28.820000  2.66  2.10  0.26  226.65  127.76   NaN  \n",
       "...         ...   ...   ...   ...     ...     ...   ...  \n",
       "1237  -2.195944  0.33  2.76  0.04     NaN     NaN   NaN  \n",
       "1238  -2.743692  0.33  2.76  0.04     NaN     NaN   NaN  \n",
       "1239  -3.291440  0.33  2.76  0.04     NaN     NaN   NaN  \n",
       "1240  -3.839188  0.33  2.76  0.04     NaN     NaN   NaN  \n",
       "1241  -4.386936  0.33  2.76  0.04     NaN     NaN   NaN  \n",
       "\n",
       "[1242 rows x 18 columns]"
      ]
     },
     "execution_count": 61,
     "metadata": {},
     "output_type": "execute_result"
    }
   ],
   "source": [
    "predict_next_k_frames(after_snap, 5)"
   ]
  },
  {
   "cell_type": "code",
   "execution_count": 17,
   "metadata": {},
   "outputs": [
    {
     "data": {
      "text/html": [
       "<div>\n",
       "<style scoped>\n",
       "    .dataframe tbody tr th:only-of-type {\n",
       "        vertical-align: middle;\n",
       "    }\n",
       "\n",
       "    .dataframe tbody tr th {\n",
       "        vertical-align: top;\n",
       "    }\n",
       "\n",
       "    .dataframe thead th {\n",
       "        text-align: right;\n",
       "    }\n",
       "</style>\n",
       "<table border=\"1\" class=\"dataframe\">\n",
       "  <thead>\n",
       "    <tr style=\"text-align: right;\">\n",
       "      <th></th>\n",
       "      <th>gameId</th>\n",
       "      <th>playId</th>\n",
       "      <th>nflId</th>\n",
       "      <th>displayName</th>\n",
       "      <th>frameId</th>\n",
       "      <th>frameType</th>\n",
       "      <th>time</th>\n",
       "      <th>jerseyNumber</th>\n",
       "      <th>club</th>\n",
       "      <th>playDirection</th>\n",
       "      <th>x</th>\n",
       "      <th>y</th>\n",
       "      <th>s</th>\n",
       "      <th>a</th>\n",
       "      <th>dis</th>\n",
       "      <th>o</th>\n",
       "      <th>dir</th>\n",
       "      <th>event</th>\n",
       "    </tr>\n",
       "  </thead>\n",
       "  <tbody>\n",
       "    <tr>\n",
       "      <th>114</th>\n",
       "      <td>2022091200</td>\n",
       "      <td>64</td>\n",
       "      <td>35459.0</td>\n",
       "      <td>Kareem Jackson</td>\n",
       "      <td>115</td>\n",
       "      <td>AFTER_SNAP</td>\n",
       "      <td>2022-09-13 00:16:14.9</td>\n",
       "      <td>22.0</td>\n",
       "      <td>DEN</td>\n",
       "      <td>right</td>\n",
       "      <td>50.390000</td>\n",
       "      <td>29.34</td>\n",
       "      <td>1.37</td>\n",
       "      <td>1.61</td>\n",
       "      <td>0.13</td>\n",
       "      <td>240.06</td>\n",
       "      <td>131.19</td>\n",
       "      <td>NaN</td>\n",
       "    </tr>\n",
       "    <tr>\n",
       "      <th>115</th>\n",
       "      <td>2022091200</td>\n",
       "      <td>64</td>\n",
       "      <td>35459.0</td>\n",
       "      <td>Kareem Jackson</td>\n",
       "      <td>116</td>\n",
       "      <td>AFTER_SNAP</td>\n",
       "      <td>2022-09-13 00:16:15</td>\n",
       "      <td>22.0</td>\n",
       "      <td>DEN</td>\n",
       "      <td>right</td>\n",
       "      <td>50.520000</td>\n",
       "      <td>29.24</td>\n",
       "      <td>1.65</td>\n",
       "      <td>1.76</td>\n",
       "      <td>0.16</td>\n",
       "      <td>238.47</td>\n",
       "      <td>129.12</td>\n",
       "      <td>NaN</td>\n",
       "    </tr>\n",
       "    <tr>\n",
       "      <th>116</th>\n",
       "      <td>2022091200</td>\n",
       "      <td>64</td>\n",
       "      <td>35459.0</td>\n",
       "      <td>Kareem Jackson</td>\n",
       "      <td>117</td>\n",
       "      <td>AFTER_SNAP</td>\n",
       "      <td>2022-09-13 00:16:15.1</td>\n",
       "      <td>22.0</td>\n",
       "      <td>DEN</td>\n",
       "      <td>right</td>\n",
       "      <td>50.670000</td>\n",
       "      <td>29.12</td>\n",
       "      <td>1.99</td>\n",
       "      <td>1.94</td>\n",
       "      <td>0.20</td>\n",
       "      <td>235.66</td>\n",
       "      <td>128.32</td>\n",
       "      <td>NaN</td>\n",
       "    </tr>\n",
       "    <tr>\n",
       "      <th>117</th>\n",
       "      <td>2022091200</td>\n",
       "      <td>64</td>\n",
       "      <td>35459.0</td>\n",
       "      <td>Kareem Jackson</td>\n",
       "      <td>118</td>\n",
       "      <td>AFTER_SNAP</td>\n",
       "      <td>2022-09-13 00:16:15.2</td>\n",
       "      <td>22.0</td>\n",
       "      <td>DEN</td>\n",
       "      <td>right</td>\n",
       "      <td>50.850000</td>\n",
       "      <td>28.98</td>\n",
       "      <td>2.32</td>\n",
       "      <td>2.03</td>\n",
       "      <td>0.23</td>\n",
       "      <td>231.72</td>\n",
       "      <td>127.25</td>\n",
       "      <td>NaN</td>\n",
       "    </tr>\n",
       "    <tr>\n",
       "      <th>118</th>\n",
       "      <td>2022091200</td>\n",
       "      <td>64</td>\n",
       "      <td>35459.0</td>\n",
       "      <td>Kareem Jackson</td>\n",
       "      <td>119</td>\n",
       "      <td>AFTER_SNAP</td>\n",
       "      <td>2022-09-13 00:16:15.3</td>\n",
       "      <td>22.0</td>\n",
       "      <td>DEN</td>\n",
       "      <td>right</td>\n",
       "      <td>51.060000</td>\n",
       "      <td>28.82</td>\n",
       "      <td>2.66</td>\n",
       "      <td>2.10</td>\n",
       "      <td>0.26</td>\n",
       "      <td>226.65</td>\n",
       "      <td>127.76</td>\n",
       "      <td>NaN</td>\n",
       "    </tr>\n",
       "    <tr>\n",
       "      <th>...</th>\n",
       "      <td>...</td>\n",
       "      <td>...</td>\n",
       "      <td>...</td>\n",
       "      <td>...</td>\n",
       "      <td>...</td>\n",
       "      <td>...</td>\n",
       "      <td>...</td>\n",
       "      <td>...</td>\n",
       "      <td>...</td>\n",
       "      <td>...</td>\n",
       "      <td>...</td>\n",
       "      <td>...</td>\n",
       "      <td>...</td>\n",
       "      <td>...</td>\n",
       "      <td>...</td>\n",
       "      <td>...</td>\n",
       "      <td>...</td>\n",
       "      <td>...</td>\n",
       "    </tr>\n",
       "    <tr>\n",
       "      <th>3744</th>\n",
       "      <td>2022091200</td>\n",
       "      <td>64</td>\n",
       "      <td>NaN</td>\n",
       "      <td>football</td>\n",
       "      <td>159</td>\n",
       "      <td>AFTER_SNAP</td>\n",
       "      <td>2022-09-13 00:16:19.3</td>\n",
       "      <td>NaN</td>\n",
       "      <td>football</td>\n",
       "      <td>right</td>\n",
       "      <td>40.380001</td>\n",
       "      <td>1.39</td>\n",
       "      <td>2.04</td>\n",
       "      <td>3.87</td>\n",
       "      <td>0.23</td>\n",
       "      <td>NaN</td>\n",
       "      <td>NaN</td>\n",
       "      <td>tackle</td>\n",
       "    </tr>\n",
       "    <tr>\n",
       "      <th>3745</th>\n",
       "      <td>2022091200</td>\n",
       "      <td>64</td>\n",
       "      <td>NaN</td>\n",
       "      <td>football</td>\n",
       "      <td>160</td>\n",
       "      <td>AFTER_SNAP</td>\n",
       "      <td>2022-09-13 00:16:19.4</td>\n",
       "      <td>NaN</td>\n",
       "      <td>football</td>\n",
       "      <td>right</td>\n",
       "      <td>40.400002</td>\n",
       "      <td>1.21</td>\n",
       "      <td>1.64</td>\n",
       "      <td>3.49</td>\n",
       "      <td>0.18</td>\n",
       "      <td>NaN</td>\n",
       "      <td>NaN</td>\n",
       "      <td>NaN</td>\n",
       "    </tr>\n",
       "    <tr>\n",
       "      <th>3746</th>\n",
       "      <td>2022091200</td>\n",
       "      <td>64</td>\n",
       "      <td>NaN</td>\n",
       "      <td>football</td>\n",
       "      <td>161</td>\n",
       "      <td>AFTER_SNAP</td>\n",
       "      <td>2022-09-13 00:16:19.5</td>\n",
       "      <td>NaN</td>\n",
       "      <td>football</td>\n",
       "      <td>right</td>\n",
       "      <td>40.419998</td>\n",
       "      <td>1.09</td>\n",
       "      <td>1.14</td>\n",
       "      <td>3.37</td>\n",
       "      <td>0.13</td>\n",
       "      <td>NaN</td>\n",
       "      <td>NaN</td>\n",
       "      <td>NaN</td>\n",
       "    </tr>\n",
       "    <tr>\n",
       "      <th>3747</th>\n",
       "      <td>2022091200</td>\n",
       "      <td>64</td>\n",
       "      <td>NaN</td>\n",
       "      <td>football</td>\n",
       "      <td>162</td>\n",
       "      <td>AFTER_SNAP</td>\n",
       "      <td>2022-09-13 00:16:19.6</td>\n",
       "      <td>NaN</td>\n",
       "      <td>football</td>\n",
       "      <td>right</td>\n",
       "      <td>40.430000</td>\n",
       "      <td>0.99</td>\n",
       "      <td>0.87</td>\n",
       "      <td>2.49</td>\n",
       "      <td>0.10</td>\n",
       "      <td>NaN</td>\n",
       "      <td>NaN</td>\n",
       "      <td>NaN</td>\n",
       "    </tr>\n",
       "    <tr>\n",
       "      <th>3748</th>\n",
       "      <td>2022091200</td>\n",
       "      <td>64</td>\n",
       "      <td>NaN</td>\n",
       "      <td>football</td>\n",
       "      <td>163</td>\n",
       "      <td>AFTER_SNAP</td>\n",
       "      <td>2022-09-13 00:16:19.7</td>\n",
       "      <td>NaN</td>\n",
       "      <td>football</td>\n",
       "      <td>right</td>\n",
       "      <td>40.439999</td>\n",
       "      <td>0.95</td>\n",
       "      <td>0.33</td>\n",
       "      <td>2.76</td>\n",
       "      <td>0.04</td>\n",
       "      <td>NaN</td>\n",
       "      <td>NaN</td>\n",
       "      <td>NaN</td>\n",
       "    </tr>\n",
       "  </tbody>\n",
       "</table>\n",
       "<p>1127 rows × 18 columns</p>\n",
       "</div>"
      ],
      "text/plain": [
       "          gameId  playId    nflId     displayName  frameId   frameType  \\\n",
       "114   2022091200      64  35459.0  Kareem Jackson      115  AFTER_SNAP   \n",
       "115   2022091200      64  35459.0  Kareem Jackson      116  AFTER_SNAP   \n",
       "116   2022091200      64  35459.0  Kareem Jackson      117  AFTER_SNAP   \n",
       "117   2022091200      64  35459.0  Kareem Jackson      118  AFTER_SNAP   \n",
       "118   2022091200      64  35459.0  Kareem Jackson      119  AFTER_SNAP   \n",
       "...          ...     ...      ...             ...      ...         ...   \n",
       "3744  2022091200      64      NaN        football      159  AFTER_SNAP   \n",
       "3745  2022091200      64      NaN        football      160  AFTER_SNAP   \n",
       "3746  2022091200      64      NaN        football      161  AFTER_SNAP   \n",
       "3747  2022091200      64      NaN        football      162  AFTER_SNAP   \n",
       "3748  2022091200      64      NaN        football      163  AFTER_SNAP   \n",
       "\n",
       "                       time  jerseyNumber      club playDirection          x  \\\n",
       "114   2022-09-13 00:16:14.9          22.0       DEN         right  50.390000   \n",
       "115     2022-09-13 00:16:15          22.0       DEN         right  50.520000   \n",
       "116   2022-09-13 00:16:15.1          22.0       DEN         right  50.670000   \n",
       "117   2022-09-13 00:16:15.2          22.0       DEN         right  50.850000   \n",
       "118   2022-09-13 00:16:15.3          22.0       DEN         right  51.060000   \n",
       "...                     ...           ...       ...           ...        ...   \n",
       "3744  2022-09-13 00:16:19.3           NaN  football         right  40.380001   \n",
       "3745  2022-09-13 00:16:19.4           NaN  football         right  40.400002   \n",
       "3746  2022-09-13 00:16:19.5           NaN  football         right  40.419998   \n",
       "3747  2022-09-13 00:16:19.6           NaN  football         right  40.430000   \n",
       "3748  2022-09-13 00:16:19.7           NaN  football         right  40.439999   \n",
       "\n",
       "          y     s     a   dis       o     dir   event  \n",
       "114   29.34  1.37  1.61  0.13  240.06  131.19     NaN  \n",
       "115   29.24  1.65  1.76  0.16  238.47  129.12     NaN  \n",
       "116   29.12  1.99  1.94  0.20  235.66  128.32     NaN  \n",
       "117   28.98  2.32  2.03  0.23  231.72  127.25     NaN  \n",
       "118   28.82  2.66  2.10  0.26  226.65  127.76     NaN  \n",
       "...     ...   ...   ...   ...     ...     ...     ...  \n",
       "3744   1.39  2.04  3.87  0.23     NaN     NaN  tackle  \n",
       "3745   1.21  1.64  3.49  0.18     NaN     NaN     NaN  \n",
       "3746   1.09  1.14  3.37  0.13     NaN     NaN     NaN  \n",
       "3747   0.99  0.87  2.49  0.10     NaN     NaN     NaN  \n",
       "3748   0.95  0.33  2.76  0.04     NaN     NaN     NaN  \n",
       "\n",
       "[1127 rows x 18 columns]"
      ]
     },
     "execution_count": 17,
     "metadata": {},
     "output_type": "execute_result"
    }
   ],
   "source": [
    "after_snap"
   ]
  },
  {
   "cell_type": "code",
   "execution_count": null,
   "metadata": {},
   "outputs": [],
   "source": []
  }
 ],
 "metadata": {
  "kaggle": {
   "accelerator": "none",
   "dataSources": [
    {
     "databundleVersionId": 9816926,
     "sourceId": 84175,
     "sourceType": "competition"
    }
   ],
   "dockerImageVersionId": 30786,
   "isGpuEnabled": false,
   "isInternetEnabled": true,
   "language": "python",
   "sourceType": "notebook"
  },
  "kernelspec": {
   "display_name": "base",
   "language": "python",
   "name": "python3"
  },
  "language_info": {
   "codemirror_mode": {
    "name": "ipython",
    "version": 3
   },
   "file_extension": ".py",
   "mimetype": "text/x-python",
   "name": "python",
   "nbconvert_exporter": "python",
   "pygments_lexer": "ipython3",
   "version": "3.12.4"
  }
 },
 "nbformat": 4,
 "nbformat_minor": 4
}
